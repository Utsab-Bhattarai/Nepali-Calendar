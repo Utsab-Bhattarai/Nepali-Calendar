{
  "nbformat": 4,
  "nbformat_minor": 0,
  "metadata": {
    "colab": {
      "provenance": [],
      "authorship_tag": "ABX9TyOGh6hKhQpF4bBk3573z0gO",
      "include_colab_link": true
    },
    "kernelspec": {
      "name": "python3",
      "display_name": "Python 3"
    },
    "language_info": {
      "name": "python"
    }
  },
  "cells": [
    {
      "cell_type": "markdown",
      "metadata": {
        "id": "view-in-github",
        "colab_type": "text"
      },
      "source": [
        "<a href=\"https://colab.research.google.com/github/Utsab-Bhattarai/Nepali-Calendar/blob/main/Programming_Exercises.ipynb\" target=\"_parent\"><img src=\"https://colab.research.google.com/assets/colab-badge.svg\" alt=\"Open In Colab\"/></a>"
      ]
    },
    {
      "cell_type": "markdown",
      "source": [
        "1. Write a program display “Hello World!”."
      ],
      "metadata": {
        "id": "k7EyJPk2S8LQ"
      }
    },
    {
      "cell_type": "code",
      "source": [
        "print(\"Hello World!\")"
      ],
      "metadata": {
        "colab": {
          "base_uri": "https://localhost:8080/"
        },
        "id": "Jsk2qkipS0I_",
        "outputId": "548ca538-b324-4f01-dca3-2d505faf2486"
      },
      "execution_count": 31,
      "outputs": [
        {
          "output_type": "stream",
          "name": "stdout",
          "text": [
            "Hello World!\n"
          ]
        }
      ]
    },
    {
      "cell_type": "markdown",
      "source": [
        "2. Write a program to find sum of two numbers. Use input() function to take input from the user."
      ],
      "metadata": {
        "id": "0Wwk8Ny5TC4A"
      }
    },
    {
      "cell_type": "code",
      "source": [
        "# Taking input from the user\n",
        "a = float(input(\"Enter the first number:\\t\"))\n",
        "b = float(input(\"Enter the second number:\\t\"))\n",
        "\n",
        "# Calculating the sum\n",
        "c = a + b\n",
        "\n",
        "# Printing the result\n",
        "print(\"The sum of the numbers (\", a, \"and\", b, \") is\", c)"
      ],
      "metadata": {
        "colab": {
          "base_uri": "https://localhost:8080/"
        },
        "id": "MtLQJADaLfN9",
        "outputId": "86cb8ccc-94d7-4031-837d-028e5cc0d799"
      },
      "execution_count": 32,
      "outputs": [
        {
          "output_type": "stream",
          "name": "stdout",
          "text": [
            "Enter the first number:\t1\n",
            "Enter the second number:\t2\n",
            "The sum of the numbers ( 1.0 and 2.0 ) is 3.0\n"
          ]
        }
      ]
    },
    {
      "cell_type": "markdown",
      "source": [
        "3. Write a program to calculate discount on the basis of following assumption:\n",
        "a) If purchased amount is greater than or equal to 1000, discount is 5%."
      ],
      "metadata": {
        "id": "ceEpx6zLTMFY"
      }
    },
    {
      "cell_type": "code",
      "source": [
        "# Taking input from the user\n",
        "amount = float(input(\"Enter the purchased amount:\\t\"))\n",
        "\n",
        "# Checking the condition and calculating discount\n",
        "if amount >= 1000:\n",
        "    discount = amount * 0.05\n",
        "else:\n",
        "    discount = 0\n",
        "\n",
        "# Printing the discount\n",
        "print(\"Discount:\", discount)"
      ],
      "metadata": {
        "colab": {
          "base_uri": "https://localhost:8080/"
        },
        "id": "avNVlzR9Lni9",
        "outputId": "a487e902-146a-4759-fc53-fc92f44bde53"
      },
      "execution_count": 33,
      "outputs": [
        {
          "output_type": "stream",
          "name": "stdout",
          "text": [
            "Enter the purchased amount:\t1\n",
            "Discount: 0\n"
          ]
        }
      ]
    },
    {
      "cell_type": "markdown",
      "source": [
        "4. Write a program to calculate discount on the basis of following assumption:\n",
        "a) If purchased amount is greater than or equal to 1000, discount is 5%.\n",
        "b) If purchased amount is less than 1000, discount is 3%."
      ],
      "metadata": {
        "id": "NaVePIPFTSZA"
      }
    },
    {
      "cell_type": "code",
      "source": [
        "# Taking input from the user\n",
        "amount = float(input(\"Enter the purchased amount:\\t\"))\n",
        "\n",
        "# Checking the conditions and calculating discount\n",
        "if amount >= 1000:\n",
        "    discount = amount * 0.05\n",
        "else:\n",
        "    discount = amount * 0.03\n",
        "\n",
        "# Printing the discount\n",
        "print(\"Discount:\", discount)"
      ],
      "metadata": {
        "colab": {
          "base_uri": "https://localhost:8080/"
        },
        "id": "PZJBYgxFMCft",
        "outputId": "dfd2d2aa-b21f-43b6-d23a-141d5e86bdf2"
      },
      "execution_count": 5,
      "outputs": [
        {
          "output_type": "stream",
          "name": "stdout",
          "text": [
            "Enter the purchased amount:\t1000\n",
            "Discount: 50.0\n"
          ]
        }
      ]
    },
    {
      "cell_type": "markdown",
      "source": [
        "5. Write a program to calculate discount on the basis of following assumption:\n",
        "a) If purchased amount is greater than or equal to 5000, discount is 10%.\n",
        "b) If purchased amount is greater than or equal to 4000 and less than 5000, discount is 7%.\n",
        "c) If purchased amount is greater than or equal to 3000 and less than 4000, discount is 5%.\n",
        "d) If purchased amount is greater than or equal to 2000 and less than 3000, discount is 3%.\n",
        "e) If purchased amount is less than 2000, discount is 2%."
      ],
      "metadata": {
        "id": "E2i1RB9LTZJI"
      }
    },
    {
      "cell_type": "code",
      "source": [
        "# Taking input from the user\n",
        "amount = float(input(\"Enter the purchased amount:\\t\"))\n",
        "\n",
        "# Checking the conditions and calculating discount\n",
        "if amount >= 5000:\n",
        "    discount = amount * 0.10\n",
        "elif amount >= 4000:\n",
        "    discount = amount * 0.07\n",
        "elif amount >= 3000:\n",
        "    discount = amount * 0.05\n",
        "elif amount >= 2000:\n",
        "    discount = amount * 0.03\n",
        "else:\n",
        "    discount = amount * 0.02\n",
        "\n",
        "# Printing the discount\n",
        "print(\"Discount:\", discount)"
      ],
      "metadata": {
        "colab": {
          "base_uri": "https://localhost:8080/"
        },
        "id": "tVhAV3ZTMbc2",
        "outputId": "cf094e71-700c-437f-a5a3-08b1de11d806"
      },
      "execution_count": 6,
      "outputs": [
        {
          "output_type": "stream",
          "name": "stdout",
          "text": [
            "Enter the purchased amount:\t1000\n",
            "Discount: 20.0\n"
          ]
        }
      ]
    },
    {
      "cell_type": "markdown",
      "source": [
        "6. Write a program to calculate the simple interest on the basis of following assumption:\n",
        "a) If balance is greater than 99999, interest is 7%.\n",
        "b) If balance is greater than or equal to 50000 and less than 100000 interest is 5%.\n",
        "c) If balance is less than 50000, interest is 3%."
      ],
      "metadata": {
        "id": "qXsjtpvkTgfY"
      }
    },
    {
      "cell_type": "code",
      "source": [
        "# Taking input from the user\n",
        "balance = float(input(\"Enter the balance:\\t\"))\n",
        "\n",
        "# Checking the conditions and calculating interest\n",
        "if balance > 99999:\n",
        "    interest = balance * 0.07\n",
        "elif balance >= 50000:\n",
        "    interest = balance * 0.05\n",
        "else:\n",
        "    interest = balance * 0.03\n",
        "\n",
        "# Printing the interest\n",
        "print(\"Interest:\", interest)"
      ],
      "metadata": {
        "colab": {
          "base_uri": "https://localhost:8080/"
        },
        "id": "S5xqZ_h9MoRG",
        "outputId": "9e74dd5b-3151-470a-c7d2-b7faa2f95a24"
      },
      "execution_count": 7,
      "outputs": [
        {
          "output_type": "stream",
          "name": "stdout",
          "text": [
            "Enter the balance:\t1000\n",
            "Interest: 30.0\n"
          ]
        }
      ]
    },
    {
      "cell_type": "markdown",
      "source": [
        "7. Write a program to test whether a number is even or odd."
      ],
      "metadata": {
        "id": "gnexTLJZTnt3"
      }
    },
    {
      "cell_type": "code",
      "source": [
        "# Taking input from the user\n",
        "num = int(input(\"Enter a number:\\t\"))\n",
        "\n",
        "# Checking the condition and printing the result\n",
        "if num % 2 == 0:\n",
        "    print(\"The number is even\")\n",
        "else:\n",
        "    print(\"The number is odd\")"
      ],
      "metadata": {
        "colab": {
          "base_uri": "https://localhost:8080/"
        },
        "id": "t60M8-z3MtWW",
        "outputId": "cbe65ab5-f598-40e9-e899-7faec8160b55"
      },
      "execution_count": 8,
      "outputs": [
        {
          "output_type": "stream",
          "name": "stdout",
          "text": [
            "Enter a number:\t62824684464\n",
            "The number is even\n"
          ]
        }
      ]
    },
    {
      "cell_type": "markdown",
      "source": [
        "8. Admission to a professional course is subject to the following conditions:\n",
        "a) Marks in mathematics >=60\n",
        "b) Marks in physics >=50\n",
        "c) Marks in chemistry >=40\n",
        "d) Total in all three subjects >=200\n",
        "\n",
        "Or\n",
        "\n",
        "Total in mathematics and physics>=150\n",
        "Given the marks in three subjects, write a program to process the applications to list eligible\n",
        "candidates."
      ],
      "metadata": {
        "id": "XulXslUTTsBA"
      }
    },
    {
      "cell_type": "code",
      "source": [
        "# Taking input from the user\n",
        "math_marks = int(input(\"Enter marks in Mathematics:\\t\"))\n",
        "physics_marks = int(input(\"Enter marks in Physics:\\t\"))\n",
        "chemistry_marks = int(input(\"Enter marks in Chemistry:\\t\"))\n",
        "\n",
        "# Checking the conditions\n",
        "if (math_marks >= 60 and physics_marks >= 50 and chemistry_marks >= 40 and\n",
        "    (math_marks + physics_marks + chemistry_marks >= 200 or math_marks + physics_marks >= 150)):\n",
        "    print(\"Eligible for admission\")\n",
        "else:\n",
        "    print(\"Not eligible for admission\")"
      ],
      "metadata": {
        "colab": {
          "base_uri": "https://localhost:8080/"
        },
        "id": "d4eOx_R6MylW",
        "outputId": "b0984e10-31f0-4d92-a9d7-7a3bda8e7b98"
      },
      "execution_count": 9,
      "outputs": [
        {
          "output_type": "stream",
          "name": "stdout",
          "text": [
            "Enter marks in Mathematics:\t59\n",
            "Enter marks in Physics:\t64\n",
            "Enter marks in Chemistry:\t28\n",
            "Not eligible for admission\n"
          ]
        }
      ]
    },
    {
      "cell_type": "markdown",
      "source": [
        "9. The rates of tax on gross salary are as shown below:\n",
        "Income Tax\n",
        "Less than 10,000 Nill\n",
        "Rs. 10,000 to 19,999 10%\n",
        "Rs. 20,000 to 39,999 15%\n",
        "Rs. 40,000 to above 20%\n",
        "Write a program to compute the net salary after deducting the tax for the given information\n",
        "and print the same."
      ],
      "metadata": {
        "id": "Iku2Ez6YTykv"
      }
    },
    {
      "cell_type": "code",
      "source": [
        "# Taking input from the user\n",
        "gross_salary = float(input(\"Enter the gross salary:\\t\"))\n",
        "\n",
        "# Calculating tax based on the income ranges\n",
        "if gross_salary < 10000:\n",
        "    tax = 0\n",
        "elif gross_salary <= 19999:\n",
        "    tax = gross_salary * 0.10\n",
        "elif gross_salary <= 39999:\n",
        "    tax = gross_salary * 0.15\n",
        "else:\n",
        "    tax = gross_salary * 0.20\n",
        "\n",
        "# Calculating the net salary\n",
        "net_salary = gross_salary - tax\n",
        "\n",
        "# Printing the net salary\n",
        "print(\"Net salary:\", net_salary)"
      ],
      "metadata": {
        "colab": {
          "base_uri": "https://localhost:8080/"
        },
        "id": "Gpl4ekk8M6hl",
        "outputId": "a4e3404e-0bfa-4194-b17c-d2fd42b5e4d0"
      },
      "execution_count": 10,
      "outputs": [
        {
          "output_type": "stream",
          "name": "stdout",
          "text": [
            "Enter the gross salary:\t30000\n",
            "Net salary: 25500.0\n"
          ]
        }
      ]
    },
    {
      "cell_type": "markdown",
      "source": [
        "10. Write a program to check whether a year entered is leap or not."
      ],
      "metadata": {
        "id": "eu9QFALQT15w"
      }
    },
    {
      "cell_type": "code",
      "source": [
        "# Taking input from the user\n",
        "year = int(input(\"Enter a year:\\t\"))\n",
        "\n",
        "# Checking the condition and printing the result\n",
        "if (year % 4 == 0 and year % 100 != 0) or (year % 400 == 0):\n",
        "    print(year, \"is a leap year\")\n",
        "else:\n",
        "    print(year, \"is not a leap year\")"
      ],
      "metadata": {
        "colab": {
          "base_uri": "https://localhost:8080/"
        },
        "id": "kCWYKPYBPlpp",
        "outputId": "0d1c1055-03f9-4b11-b9ae-45239d392d7e"
      },
      "execution_count": 11,
      "outputs": [
        {
          "output_type": "stream",
          "name": "stdout",
          "text": [
            "Enter a year:\t1990\n",
            "1990 is not a leap year\n"
          ]
        }
      ]
    },
    {
      "cell_type": "markdown",
      "source": [
        "11. Write a program to display “MDS” 10 times."
      ],
      "metadata": {
        "id": "CbbSlD7sT5CR"
      }
    },
    {
      "cell_type": "code",
      "source": [
        "for _ in range(10):\n",
        "    print(\"MDS\")"
      ],
      "metadata": {
        "colab": {
          "base_uri": "https://localhost:8080/"
        },
        "id": "wKDKmeAePq0l",
        "outputId": "b91995c5-0068-4611-ecf0-35535e46ab86"
      },
      "execution_count": 12,
      "outputs": [
        {
          "output_type": "stream",
          "name": "stdout",
          "text": [
            "MDS\n",
            "MDS\n",
            "MDS\n",
            "MDS\n",
            "MDS\n",
            "MDS\n",
            "MDS\n",
            "MDS\n",
            "MDS\n",
            "MDS\n"
          ]
        }
      ]
    },
    {
      "cell_type": "markdown",
      "source": [
        "12. Write a program to find sum and average of 10 numbers stored in a list."
      ],
      "metadata": {
        "id": "xtHGXRfJT-sB"
      }
    },
    {
      "cell_type": "code",
      "source": [
        "# Creating a list of 10 numbers\n",
        "numbers = [float(input(\"Enter number {}:\\t\".format(i+1))) for i in range(10)]\n",
        "\n",
        "# Calculating the sum and average\n",
        "total_sum = sum(numbers)\n",
        "average = total_sum / 10\n",
        "\n",
        "# Printing the sum and average\n",
        "print(\"Sum:\", total_sum)\n",
        "print(\"Average:\", average)"
      ],
      "metadata": {
        "colab": {
          "base_uri": "https://localhost:8080/"
        },
        "id": "Am7RieFuPvCy",
        "outputId": "a50380ab-e5b4-4423-be3d-91d54bdcd247"
      },
      "execution_count": 13,
      "outputs": [
        {
          "output_type": "stream",
          "name": "stdout",
          "text": [
            "Enter number 1:\t1\n",
            "Enter number 2:\t2\n",
            "Enter number 3:\t3\n",
            "Enter number 4:\t4\n",
            "Enter number 5:\t5\n",
            "Enter number 6:\t6\n",
            "Enter number 7:\t7\n",
            "Enter number 8:\t8\n",
            "Enter number 9:\t9\n",
            "Enter number 10:\t10\n",
            "Sum: 55.0\n",
            "Average: 5.5\n"
          ]
        }
      ]
    },
    {
      "cell_type": "markdown",
      "source": [
        "13. Write a program to display prime numbers up to 100."
      ],
      "metadata": {
        "id": "PvTVmie9UCXh"
      }
    },
    {
      "cell_type": "code",
      "source": [
        "# Function to check if a number is prime\n",
        "def is_prime(n):\n",
        "    if n <= 1:\n",
        "        return False\n",
        "    for i in range(2, int(n**0.5) + 1):\n",
        "        if n % i == 0:\n",
        "            return False\n",
        "    return True\n",
        "\n",
        "# Displaying prime numbers up to 100\n",
        "print(\"Prime numbers up to 100 are:\")\n",
        "for num in range(2, 101):\n",
        "    if is_prime(num):\n",
        "        print(num, end=\" \")"
      ],
      "metadata": {
        "colab": {
          "base_uri": "https://localhost:8080/"
        },
        "id": "RwN4h49SP8I-",
        "outputId": "cf8e0bc0-83f2-44f6-a99e-b1c8c7478083"
      },
      "execution_count": 14,
      "outputs": [
        {
          "output_type": "stream",
          "name": "stdout",
          "text": [
            "Prime numbers up to 100 are:\n",
            "2 3 5 7 11 13 17 19 23 29 31 37 41 43 47 53 59 61 67 71 73 79 83 89 97 "
          ]
        }
      ]
    },
    {
      "cell_type": "markdown",
      "source": [
        "14. Write a program to find sum of digits of a number."
      ],
      "metadata": {
        "id": "YEN6LtPaUFbA"
      }
    },
    {
      "cell_type": "code",
      "source": [
        "# Taking input from the user\n",
        "num = int(input(\"Enter a number:\\t\"))\n",
        "\n",
        "# Calculating the sum of digits\n",
        "sum_of_digits = sum(int(digit) for digit in str(num))\n",
        "\n",
        "# Printing the sum of digits\n",
        "print(\"Sum of digits:\", sum_of_digits)"
      ],
      "metadata": {
        "colab": {
          "base_uri": "https://localhost:8080/"
        },
        "id": "9Po4a-1HP_xW",
        "outputId": "8e3aa616-ba21-46f7-dafc-350c38879286"
      },
      "execution_count": 17,
      "outputs": [
        {
          "output_type": "stream",
          "name": "stdout",
          "text": [
            "Enter a number:\t25\n",
            "Sum of digits: 7\n"
          ]
        }
      ]
    },
    {
      "cell_type": "markdown",
      "source": [
        "15. Write a program to check whether a number is palindrome or not."
      ],
      "metadata": {
        "id": "E7lfv7j4UH0Z"
      }
    },
    {
      "cell_type": "code",
      "source": [
        "# Taking input from the user\n",
        "num = input(\"Enter a number:\\t\")\n",
        "\n",
        "# Checking the condition and printing the result\n",
        "if num == num[::-1]:\n",
        "    print(num, \"is a palindrome\")\n",
        "else:\n",
        "    print(num, \"is not a palindrome\")"
      ],
      "metadata": {
        "colab": {
          "base_uri": "https://localhost:8080/"
        },
        "id": "nG3vVWbVQxUu",
        "outputId": "323fa35f-5d3d-4737-bf02-8370ff36fa23"
      },
      "execution_count": 19,
      "outputs": [
        {
          "output_type": "stream",
          "name": "stdout",
          "text": [
            "Enter a number:\t86416\n",
            "86416 is not a palindrome\n"
          ]
        }
      ]
    },
    {
      "cell_type": "markdown",
      "source": [
        "16. Write a program to check if a number is Armstrong Number or not."
      ],
      "metadata": {
        "id": "jUuHmJriUKu0"
      }
    },
    {
      "cell_type": "code",
      "source": [
        "# Taking input from the user\n",
        "num = int(input(\"Enter a number:\\t\"))\n",
        "\n",
        "# Calculating the sum of the cubes of the digits\n",
        "sum_of_cubes = sum(int(digit) ** 3 for digit in str(num))\n",
        "\n",
        "# Checking the condition and printing the result\n",
        "if sum_of_cubes == num:\n",
        "    print(num, \"is an Armstrong number\")\n",
        "else:\n",
        "    print(num, \"is not an Armstrong number\")"
      ],
      "metadata": {
        "colab": {
          "base_uri": "https://localhost:8080/"
        },
        "id": "0nfzqYNPQ64Q",
        "outputId": "1ecf35b6-96bf-4dd8-a9d5-fdc8120b851a"
      },
      "execution_count": 20,
      "outputs": [
        {
          "output_type": "stream",
          "name": "stdout",
          "text": [
            "Enter a number:\t1\n",
            "1 is an Armstrong number\n"
          ]
        }
      ]
    },
    {
      "cell_type": "markdown",
      "source": [
        "17. Write a program to count number of vowels in a string."
      ],
      "metadata": {
        "id": "_ZpCWjJXUP2b"
      }
    },
    {
      "cell_type": "code",
      "source": [
        "# Taking input from the user\n",
        "string = input(\"Enter a string:\\t\")\n",
        "\n",
        "# Counting the number of vowels\n",
        "vowels = 'aeiouAEIOU'\n",
        "count = sum(1 for char in string if char in vowels)\n",
        "\n",
        "# Printing the number of vowels\n",
        "print(\"Number of vowels:\", count)"
      ],
      "metadata": {
        "colab": {
          "base_uri": "https://localhost:8080/"
        },
        "id": "Z79rVeavQ_K6",
        "outputId": "b0679b6b-3995-45f4-e112-3b99556446b2"
      },
      "execution_count": 21,
      "outputs": [
        {
          "output_type": "stream",
          "name": "stdout",
          "text": [
            "Enter a string:\t9\n",
            "Number of vowels: 0\n"
          ]
        }
      ]
    },
    {
      "cell_type": "markdown",
      "source": [
        "18. Write a program to find smallest and largest number among 10 numbers stored in a list."
      ],
      "metadata": {
        "id": "hlFCAMJiUS4I"
      }
    },
    {
      "cell_type": "code",
      "source": [
        "# Creating a list of 10 numbers\n",
        "numbers = [float(input(\"Enter number {}:\\t\".format(i+1))) for i in range(10)]\n",
        "\n",
        "# Finding the smallest and largest number\n",
        "smallest = min(numbers)\n",
        "largest = max(numbers)\n",
        "\n",
        "# Printing the smallest and largest number\n",
        "print(\"Smallest number:\", smallest)\n",
        "print(\"Largest number:\", largest)"
      ],
      "metadata": {
        "colab": {
          "base_uri": "https://localhost:8080/"
        },
        "id": "rr4BRsgrRDbi",
        "outputId": "82378da4-e745-4e56-edc2-9ab948c56370"
      },
      "execution_count": 22,
      "outputs": [
        {
          "output_type": "stream",
          "name": "stdout",
          "text": [
            "Enter number 1:\t1\n",
            "Enter number 2:\t2\n",
            "Enter number 3:\t3\n",
            "Enter number 4:\t4\n",
            "Enter number 5:\t5\n",
            "Enter number 6:\t6\n",
            "Enter number 7:\t7\n",
            "Enter number 8:\t8\n",
            "Enter number 9:\t9\n",
            "Enter number 10:\t1\n",
            "Smallest number: 1.0\n",
            "Largest number: 9.0\n"
          ]
        }
      ]
    },
    {
      "cell_type": "markdown",
      "source": [
        "19. Write a program to count even numbers and odd numbers stored in a list."
      ],
      "metadata": {
        "id": "4uK5ezfUUXLY"
      }
    },
    {
      "cell_type": "code",
      "source": [
        "# Creating a list of numbers\n",
        "numbers = [int(input(\"Enter number {}:\\t\".format(i+1))) for i in range(10)]\n",
        "\n",
        "# Counting even and odd numbers\n",
        "even_count = sum(1 for num in numbers if num % 2 == 0)\n",
        "odd_count = sum(1 for num in numbers if num % 2 != 0)\n",
        "\n",
        "# Printing the count of even and odd numbers\n",
        "print(\"Number of even numbers:\", even_count)\n",
        "print(\"Number of odd numbers:\", odd_count)"
      ],
      "metadata": {
        "colab": {
          "base_uri": "https://localhost:8080/"
        },
        "id": "i77-hKEERLaR",
        "outputId": "521b19f8-10fc-4767-80b8-94a994c0dda5"
      },
      "execution_count": 23,
      "outputs": [
        {
          "output_type": "stream",
          "name": "stdout",
          "text": [
            "Enter number 1:\t1\n",
            "Enter number 2:\t2\n",
            "Enter number 3:\t3\n",
            "Enter number 4:\t4\n",
            "Enter number 5:\t5\n",
            "Enter number 6:\t6\n",
            "Enter number 7:\t7\n",
            "Enter number 8:\t8\n",
            "Enter number 9:\t9\n",
            "Enter number 10:\t10\n",
            "Number of even numbers: 5\n",
            "Number of odd numbers: 5\n"
          ]
        }
      ]
    },
    {
      "cell_type": "markdown",
      "source": [
        "20. Write a program to find sum of two matrices."
      ],
      "metadata": {
        "id": "W8vNT93Of1-g"
      }
    },
    {
      "cell_type": "code",
      "source": [
        "# Function to input a matrix\n",
        "def input_matrix(rows, cols):\n",
        "    matrix = []\n",
        "    for i in range(rows):\n",
        "        row = [int(input(\"Enter element [{}, {}]: \".format(i+1, j+1))) for j in range(cols)]\n",
        "        matrix.append(row)\n",
        "    return matrix\n",
        "\n",
        "# Taking input for the first matrix\n",
        "print(\"Enter the elements of the first matrix:\")\n",
        "rows = int(input(\"Enter number of rows: \"))\n",
        "cols = int(input(\"Enter number of columns: \"))\n",
        "matrix1 = input_matrix(rows, cols)\n",
        "\n",
        "# Taking input for the second matrix\n",
        "print(\"Enter the elements of the second matrix:\")\n",
        "matrix2 = input_matrix(rows, cols)\n",
        "\n",
        "# Calculating the sum of the two matrices\n",
        "sum_matrix = [[matrix1[i][j] + matrix2[i][j] for j in range(cols)] for i in range(rows)]\n",
        "\n",
        "# Printing the sum matrix\n",
        "print(\"Sum of the two matrices:\")\n",
        "for row in sum_matrix:\n",
        "    print(row)"
      ],
      "metadata": {
        "colab": {
          "base_uri": "https://localhost:8080/"
        },
        "id": "mRlx9h2vRTZX",
        "outputId": "7e719834-148f-4faf-93b8-dc022bf8142e"
      },
      "execution_count": 26,
      "outputs": [
        {
          "output_type": "stream",
          "name": "stdout",
          "text": [
            "Enter the elements of the first matrix:\n",
            "Enter number of rows: 2\n",
            "Enter number of columns: 2\n",
            "Enter element [1, 1]: 9\n",
            "Enter element [1, 2]: 5\n",
            "Enter element [2, 1]: 6\n",
            "Enter element [2, 2]: 8\n",
            "Enter the elements of the second matrix:\n",
            "Enter element [1, 1]: 2\n",
            "Enter element [1, 2]: 5\n",
            "Enter element [2, 1]: 4\n",
            "Enter element [2, 2]: 9\n",
            "Sum of the two matrices:\n",
            "[11, 10]\n",
            "[10, 17]\n"
          ]
        }
      ]
    },
    {
      "cell_type": "markdown",
      "source": [
        "21. Write a program to find product of two matrices."
      ],
      "metadata": {
        "id": "aRRdvzDcf46v"
      }
    },
    {
      "cell_type": "code",
      "source": [
        "# Function to input a matrix\n",
        "def input_matrix(rows, cols):\n",
        "    matrix = []\n",
        "    for i in range(rows):\n",
        "        row = [int(input(\"Enter element [{}, {}]: \".format(i+1, j+1))) for j in range(cols)]\n",
        "        matrix.append(row)\n",
        "    return matrix\n",
        "\n",
        "# Taking input for the first matrix\n",
        "print(\"Enter the elements of the first matrix:\")\n",
        "rows1 = int(input(\"Enter number of rows: \"))\n",
        "cols1 = int(input(\"Enter number of columns: \"))\n",
        "matrix1 = input_matrix(rows1, cols1)\n",
        "\n",
        "# Taking input for the second matrix\n",
        "print(\"Enter the elements of the second matrix:\")\n",
        "rows2 = int(input(\"Enter number of rows: \"))\n",
        "cols2 = int(input(\"Enter number of columns: \"))\n",
        "matrix2 = input_matrix(rows2, cols2)\n",
        "\n",
        "# Checking if multiplication is possible\n",
        "if cols1 != rows2:\n",
        "    print(\"Matrices cannot be multiplied\")\n",
        "else:\n",
        "    # Calculating the product of the two matrices\n",
        "    product_matrix = [[sum(matrix1[i][k] * matrix2[k][j] for k in range(cols1)) for j in range(cols2)] for i in range(rows1)]\n",
        "\n",
        "    # Printing the product matrix\n",
        "    print(\"Product of the two matrices:\")\n",
        "    for row in product_matrix:\n",
        "        print(row)"
      ],
      "metadata": {
        "colab": {
          "base_uri": "https://localhost:8080/"
        },
        "id": "H1omMGyAR3Jv",
        "outputId": "c533ab96-e3dd-48da-d74c-91601c0454ca"
      },
      "execution_count": 27,
      "outputs": [
        {
          "output_type": "stream",
          "name": "stdout",
          "text": [
            "Enter the elements of the first matrix:\n",
            "Enter number of rows: 1\n",
            "Enter number of columns: 1\n",
            "Enter element [1, 1]: 5\n",
            "Enter the elements of the second matrix:\n",
            "Enter number of rows: 1\n",
            "Enter number of columns: 1\n",
            "Enter element [1, 1]: 9\n",
            "Product of the two matrices:\n",
            "[45]\n"
          ]
        }
      ]
    },
    {
      "cell_type": "markdown",
      "source": [
        "22. Write a program using list comprehension to find sum of only even numbers."
      ],
      "metadata": {
        "id": "LDGMviHEf7ag"
      }
    },
    {
      "cell_type": "code",
      "source": [
        "# Creating a list of numbers\n",
        "numbers = [int(input(\"Enter number {}:\\t\".format(i+1))) for i in range(10)]\n",
        "\n",
        "# Calculating the sum of even numbers using list comprehension\n",
        "even_sum = sum(num for num in numbers if num % 2 == 0)\n",
        "\n",
        "# Printing the sum of even numbers\n",
        "print(\"Sum of even numbers:\", even_sum)"
      ],
      "metadata": {
        "colab": {
          "base_uri": "https://localhost:8080/"
        },
        "id": "YJmDZwrGR9zI",
        "outputId": "fb162ceb-e3a5-4327-9288-fdc03b0078b3"
      },
      "execution_count": 28,
      "outputs": [
        {
          "output_type": "stream",
          "name": "stdout",
          "text": [
            "Enter number 1:\t1\n",
            "Enter number 2:\t2\n",
            "Enter number 3:\t3\n",
            "Enter number 4:\t4\n",
            "Enter number 5:\t5\n",
            "Enter number 6:\t6\n",
            "Enter number 7:\t7\n",
            "Enter number 8:\t8\n",
            "Enter number 9:\t9\n",
            "Enter number 10:\t10\n",
            "Sum of even numbers: 30\n"
          ]
        }
      ]
    },
    {
      "cell_type": "markdown",
      "source": [
        "23. Write a program using function with return type to find sum of two numbers."
      ],
      "metadata": {
        "id": "R2vZ0RzTf-tf"
      }
    },
    {
      "cell_type": "code",
      "source": [
        "# Function to find sum of two numbers\n",
        "def sum_of_two_numbers(a, b):\n",
        "    return a + b\n",
        "\n",
        "# Taking input from the user\n",
        "a = float(input(\"Enter the first number:\\t\"))\n",
        "b = float(input(\"Enter the second number:\\t\"))\n",
        "\n",
        "# Calculating the sum\n",
        "result = sum_of_two_numbers(a, b)\n",
        "\n",
        "# Printing the result\n",
        "print(\"The sum of the numbers is:\", result)"
      ],
      "metadata": {
        "colab": {
          "base_uri": "https://localhost:8080/"
        },
        "id": "uBa0R8rISGrY",
        "outputId": "42eca670-929c-4bfb-9671-27ecdc4925cb"
      },
      "execution_count": 29,
      "outputs": [
        {
          "output_type": "stream",
          "name": "stdout",
          "text": [
            "Enter the first number:\t5\n",
            "Enter the second number:\t9\n",
            "The sum of the numbers is: 14.0\n"
          ]
        }
      ]
    },
    {
      "cell_type": "markdown",
      "source": [
        "24. Write a program using recursive function to find factorial of a number."
      ],
      "metadata": {
        "id": "rkrc_94EgBmj"
      }
    },
    {
      "cell_type": "code",
      "source": [
        "# Recursive function to find factorial of a number\n",
        "def factorial(n):\n",
        "    if n == 0 or n == 1:\n",
        "        return 1\n",
        "    else:\n",
        "        return n * factorial(n - 1)\n",
        "\n",
        "# Taking input from the user\n",
        "num = int(input(\"Enter a number:\\t\"))\n",
        "\n",
        "# Calculating the factorial\n",
        "result = factorial(num)\n",
        "\n",
        "# Printing the result\n",
        "print(\"Factorial of\", num, \"is\", result)"
      ],
      "metadata": {
        "id": "CbwpSdJOSNCB"
      },
      "execution_count": null,
      "outputs": []
    },
    {
      "cell_type": "markdown",
      "source": [
        "25. Write a program using recursive function to find nth Fibonacci number."
      ],
      "metadata": {
        "id": "4M-rGsIggFeL"
      }
    },
    {
      "cell_type": "code",
      "source": [
        "# Recursive function to find nth Fibonacci number\n",
        "def fibonacci(n):\n",
        "    if n <= 0:\n",
        "        return 0\n",
        "    elif n == 1:\n",
        "        return 1\n",
        "    else:\n",
        "        return fibonacci(n-1) + fibonacci(n-2)\n",
        "\n",
        "# Taking input from the user\n",
        "num = int(input(\"Enter the position of Fibonacci number:\\t\"))\n",
        "\n",
        "# Calculating the Fibonacci number\n",
        "result = fibonacci(num)\n",
        "\n",
        "# Printing the result\n",
        "print(\"The\", num, \"th Fibonacci number is\", result)"
      ],
      "metadata": {
        "id": "prnA908fSQbQ"
      },
      "execution_count": null,
      "outputs": []
    },
    {
      "cell_type": "markdown",
      "source": [
        "26. Create a class Rectangle containing instance variables length and breadth. The class also contains two instance methods area() and perimeter() to find area and perimeter of rectangles respectively. Use this class to find the area and perimeter of two different rectangles."
      ],
      "metadata": {
        "id": "vfYvPuxYgHrC"
      }
    },
    {
      "cell_type": "code",
      "source": [
        "class Rectangle:\n",
        "    def __init__(self, length, breadth):\n",
        "        self.length = length\n",
        "        self.breadth = breadth\n",
        "\n",
        "    def area(self):\n",
        "        return self.length * self.breadth\n",
        "\n",
        "    def perimeter(self):\n",
        "        return 2 * (self.length + self.breadth)\n",
        "\n",
        "# Creating two rectangles\n",
        "rect1 = Rectangle(4, 5)\n",
        "rect2 = Rectangle(7, 3)\n",
        "\n",
        "# Printing area and perimeter of the rectangles\n",
        "print(\"Rectangle 1 - Area:\", rect1.area(), \"Perimeter:\", rect1.perimeter())\n",
        "print(\"Rectangle 2 - Area:\", rect2.area(), \"Perimeter:\", rect2.perimeter())"
      ],
      "metadata": {
        "id": "clM3sBNsSSk_"
      },
      "execution_count": null,
      "outputs": []
    },
    {
      "cell_type": "markdown",
      "source": [
        "27. Create a class Circle containing an instance variable radius. The class also contains two instance methods area() and circumference() to find area and circumference of circles respectively. Use this class to find area and circumference of two different circles. Use PI as a class variable."
      ],
      "metadata": {
        "id": "UF0fJ5JFgQUT"
      }
    },
    {
      "cell_type": "code",
      "source": [
        "class Circle:\n",
        "    PI = 3.14159\n",
        "\n",
        "    def __init__(self, radius):\n",
        "        self.radius = radius\n",
        "\n",
        "    def area(self):\n",
        "        return Circle.PI * (self.radius ** 2)\n",
        "\n",
        "    def circumference(self):\n",
        "        return 2 * Circle.PI * self.radius\n",
        "\n",
        "# Creating two circles\n",
        "circle1 = Circle(3)\n",
        "circle2 = Circle(5)\n",
        "\n",
        "# Printing area and circumference of the circles\n",
        "print(\"Circle 1 - Area:\", circle1.area(), \"Circumference:\", circle1.circumference())\n",
        "print(\"Circle 2 - Area:\", circle2.area(), \"Circumference:\", circle2.circumference())"
      ],
      "metadata": {
        "id": "sRoGpv6MSUlD"
      },
      "execution_count": null,
      "outputs": []
    },
    {
      "cell_type": "markdown",
      "source": [
        "28. Create a class Box with instance variables width, height and depth. The class also contains instance methods volume() and surface_area() to find volume and surface area of boxes respectively. Use this class to find volume and surface area of two different boxes."
      ],
      "metadata": {
        "id": "2smOsaGkgZAE"
      }
    },
    {
      "cell_type": "code",
      "source": [
        "class Box:\n",
        "    def __init__(self, width, height, depth):\n",
        "        self.width = width\n",
        "        self.height = height\n",
        "        self.depth = depth\n",
        "\n",
        "    def volume(self):\n",
        "        return self.width * self.height * self.depth\n",
        "\n",
        "    def surface_area(self):\n",
        "        return 2 * (self.width * self.height + self.height * self.depth + self.width * self.depth)\n",
        "\n",
        "# Creating two boxes\n",
        "box1 = Box(3, 4, 5)\n",
        "box2 = Box(7, 2, 6)\n",
        "\n",
        "# Printing volume and surface area of the boxes\n",
        "print(\"Box 1 - Volume:\", box1.volume(), \"Surface Area:\", box1.surface_area())\n",
        "print(\"Box 2 - Volume:\", box2.volume(), \"Surface Area:\", box2.surface_area())"
      ],
      "metadata": {
        "id": "bOUks7E0SXZv"
      },
      "execution_count": null,
      "outputs": []
    },
    {
      "cell_type": "markdown",
      "source": [
        "29. Create a class Time with three instance variables hours, minutes, and seconds. Add instance methods display() to display the time in hh:mm:ss format and add() to add two time objects. Use this class to add and display two different time objects."
      ],
      "metadata": {
        "id": "U7jc8gIhgexr"
      }
    },
    {
      "cell_type": "code",
      "source": [
        "class Time:\n",
        "    def __init__(self, hours, minutes, seconds):\n",
        "        self.hours = hours\n",
        "        self.minutes = minutes\n",
        "        self.seconds = seconds\n",
        "\n",
        "    def display(self):\n",
        "        return f\"{self.hours:02}:{self.minutes:02}:{self.seconds:02}\"\n",
        "\n",
        "    def add(self, other):\n",
        "        total_seconds = (self.hours * 3600 + self.minutes * 60 + self.seconds) + (other.hours * 3600 + other.minutes * 60 + other.seconds)\n",
        "        hours = total_seconds // 3600\n",
        "        minutes = (total_seconds % 3600) // 60\n",
        "        seconds = total_seconds % 60\n",
        "        return Time(hours, minutes, seconds)\n",
        "\n",
        "# Creating two time objects\n",
        "time1 = Time(2, 45, 30)\n",
        "time2 = Time(1, 20, 40)\n",
        "\n",
        "# Adding the two times and displaying the result\n",
        "result_time = time1.add(time2)\n",
        "print(\"Time 1:\", time1.display())\n",
        "print(\"Time 2:\", time2.display())\n",
        "print(\"Sum of Time 1 and Time 2:\", result_time.display())"
      ],
      "metadata": {
        "id": "hObu4KrqSZ3_"
      },
      "execution_count": null,
      "outputs": []
    },
    {
      "cell_type": "markdown",
      "source": [
        "30. Create a class Distance containing instance variables feet and inches. The class also contains instance methods add() and compare() to add and compare two distance objects respectively. Use this class to create two different distance objects and add and compare these two distance objects."
      ],
      "metadata": {
        "id": "cdnw8eFmglNC"
      }
    },
    {
      "cell_type": "code",
      "source": [
        "class Distance:\n",
        "    def __init__(self, feet, inches):\n",
        "        self.feet = feet\n",
        "        self.inches = inches\n",
        "\n",
        "    def add(self, other):\n",
        "        total_inches = self.inches + other.inches\n",
        "        extra_feet = total_inches // 12\n",
        "        total_feet = self.feet + other.feet + extra_feet\n",
        "        remaining_inches = total_inches % 12\n",
        "        return Distance(total_feet, remaining_inches)\n",
        "\n",
        "    def compare(self, other):\n",
        "        if self.feet > other.feet or (self.feet == other.feet and self.inches > other.inches):\n",
        "            return \"First distance is greater\"\n",
        "        elif self.feet < other.feet or (self.feet == other.feet and self.inches < other.inches):\n",
        "            return \"Second distance is greater\"\n",
        "        else:\n",
        "            return \"Both distances are equal\"\n",
        "\n",
        "# Creating two distance objects\n",
        "dist1 = Distance(5, 8)\n",
        "dist2 = Distance(4, 11)\n",
        "\n",
        "# Adding and comparing the two distances\n",
        "added_distance = dist1.add(dist2)\n",
        "comparison = dist1.compare(dist2)\n",
        "\n",
        "# Printing the results\n",
        "print(\"Distance 1:\", dist1.feet, \"feet\", dist1.inches, \"inches\")\n",
        "print(\"Distance 2:\", dist2.feet, \"feet\", dist2.inches, \"inches\")\n",
        "print(\"Added Distance:\", added_distance.feet, \"feet\", added_distance.inches, \"inches\")\n",
        "print(\"Comparison:\", comparison)"
      ],
      "metadata": {
        "id": "Lw-latOLScHY"
      },
      "execution_count": null,
      "outputs": []
    },
    {
      "cell_type": "markdown",
      "source": [
        "31. Create a class Student with instance variables name, roll_number, and marks in five subjects. Add three instance methods in this class to calculate total(), percentage(), and division() of the marks obtained by the students. Use this class to find total marks obtained, percentage, and division of five students."
      ],
      "metadata": {
        "id": "QaziF0s0grEz"
      }
    },
    {
      "cell_type": "code",
      "source": [
        "class Student:\n",
        "    def __init__(self, name, roll_number, marks):\n",
        "        self.name = name\n",
        "        self.roll_number = roll_number\n",
        "        self.marks = marks\n",
        "\n",
        "    def total(self):\n",
        "        return sum(self.marks)\n",
        "\n",
        "    def percentage(self):\n",
        "        return self.total() / len(self.marks)\n",
        "\n",
        "    def division(self):\n",
        "        percent = self.percentage()\n",
        "        if percent >= 60:\n",
        "            return \"First Division\"\n",
        "        elif percent >= 50:\n",
        "            return \"Second Division\"\n",
        "        elif percent >= 40:\n",
        "            return \"Third Division\"\n",
        "        else:\n",
        "            return \"Fail\"\n",
        "\n",
        "# Creating a list of students\n",
        "students = [\n",
        "    Student(\"John\", 1, [85, 90, 78, 92, 88]),\n",
        "    Student(\"Alice\", 2, [72, 65, 80, 70, 68]),\n",
        "    Student(\"Bob\", 3, [55, 60, 58, 62, 57]),\n",
        "    Student(\"Eve\", 4, [40, 45, 42, 48, 50]),\n",
        "    Student(\"Mike\", 5, [30, 35, 28, 32, 25])\n",
        "]\n",
        "\n",
        "# Printing total marks, percentage, and division for each student\n",
        "for student in students:\n",
        "    print(f\"Student Name: {student.name}, Roll Number: {student.roll_number}\")\n",
        "    print(\"Total Marks:\", student.total())\n",
        "    print(\"Percentage:\", student.percentage())\n",
        "    print(\"Division:\", student.division())\n",
        "    print()"
      ],
      "metadata": {
        "id": "4x00o30aSfx-"
      },
      "execution_count": null,
      "outputs": []
    },
    {
      "cell_type": "markdown",
      "source": [
        "32. Create a parent class Bonus with instance variables sales_id and sales_amount. Add get_bonus method that calculates a salesperson’s bonus using the foumula bonus = sales * 0.05. Create a child class named PremiumBonus from Bonus. The child class’s get_premium_bonus() method should calculate the bonus using the formula bonus = sales * 0.05 + (sales – 2500) * 0.01. Now, create an object of PremiumBonus class and use this object to find both bonus and premium bonus."
      ],
      "metadata": {
        "id": "_9nAXaC5gwWT"
      }
    },
    {
      "cell_type": "code",
      "source": [
        "class Bonus:\n",
        "    def __init__(self, sales_id, sales_amount):\n",
        "        self.sales_id = sales_id\n",
        "        self.sales_amount = sales_amount\n",
        "\n",
        "    def get_bonus(self):\n",
        "        return self.sales_amount * 0.05\n",
        "\n",
        "class PremiumBonus(Bonus):\n",
        "    def get_premium_bonus(self):\n",
        "        if self.sales_amount > 2500:\n",
        "            return super().get_bonus() + (self.sales_amount - 2500) * 0.01\n",
        "        else:\n",
        "            return super().get_bonus()\n",
        "\n",
        "# Creating an object of PremiumBonus\n",
        "sales_id = 101\n",
        "sales_amount = 3000\n",
        "premium_bonus = PremiumBonus(sales_id, sales_amount)\n",
        "\n",
        "# Printing the bonus and premium bonus\n",
        "print(\"Sales ID:\", sales_id)\n",
        "print(\"Sales Amount:\", sales_amount)\n",
        "print(\"Bonus:\", premium_bonus.get_bonus())\n",
        "print(\"Premium Bonus:\", premium_bonus.get_premium_bonus())"
      ],
      "metadata": {
        "id": "vUt89PmKSiu3"
      },
      "execution_count": null,
      "outputs": []
    },
    {
      "cell_type": "markdown",
      "source": [
        "33. Overload + operator in Q.N.25 to add two distance objects."
      ],
      "metadata": {
        "id": "WnknXl-XqfqN"
      }
    },
    {
      "cell_type": "code",
      "source": [
        "class Distance:\n",
        "    def __init__(self, feet, inches):\n",
        "        self.feet = feet\n",
        "        self.inches = inches\n",
        "\n",
        "    def __add__(self, other):\n",
        "        total_inches = self.inches + other.inches\n",
        "        extra_feet = total_inches // 12\n",
        "        total_feet = self.feet + other.feet + extra_feet\n",
        "        remaining_inches = total_inches % 12\n",
        "        return Distance(total_feet, remaining_inches)\n",
        "\n",
        "    def __str__(self):\n",
        "        return f\"{self.feet} feet {self.inches} inches\"\n",
        "\n",
        "# Creating two distance objects\n",
        "dist1 = Distance(5, 8)\n",
        "dist2 = Distance(4, 11)\n",
        "\n",
        "# Adding the two distances\n",
        "added_distance = dist1 + dist2\n",
        "\n",
        "# Printing the result\n",
        "print(\"Distance 1:\", dist1)\n",
        "print(\"Distance 2:\", dist2)\n",
        "print(\"Added Distance:\", added_distance)"
      ],
      "metadata": {
        "id": "3E29-0eJSjuX"
      },
      "execution_count": null,
      "outputs": []
    },
    {
      "cell_type": "markdown",
      "source": [
        "34. Write a program that reads a text file and displays the following:\n",
        "a. Number of characters\n",
        "b. Number of vowels\n",
        "c. Number of consonants\n",
        "d. Number of words\n",
        "e. Number of lines"
      ],
      "metadata": {
        "id": "HFelPyWAqiVN"
      }
    },
    {
      "cell_type": "code",
      "source": [
        "def analyze_file(filename):\n",
        "    with open(filename, 'r') as file:\n",
        "        text = file.read()\n",
        "\n",
        "    num_chars = len(text)\n",
        "    vowels = 'aeiouAEIOU'\n",
        "    num_vowels = sum(1 for char in text if char in vowels)\n",
        "    num_consonants = sum(1 for char in text if char.isalpha() and char not in vowels)\n",
        "    num_words = len(text.split())\n",
        "    num_lines = text.count('\\n') + 1\n",
        "\n",
        "    print(\"Number of characters:\", num_chars)\n",
        "    print(\"Number of vowels:\", num_vowels)\n",
        "    print(\"Number of consonants:\", num_consonants)\n",
        "    print(\"Number of words:\", num_words)\n",
        "    print(\"Number of lines:\", num_lines)\n",
        "\n",
        "# Assuming 'sample.txt' is the name of the file to be analyzed\n",
        "filename = 'sample.txt'\n",
        "analyze_file(filename)"
      ],
      "metadata": {
        "id": "FpqVtXQZSmIn"
      },
      "execution_count": null,
      "outputs": []
    },
    {
      "cell_type": "markdown",
      "source": [
        "35. Write a program that reads a text file and writes its output in another text file. The output\n",
        "should contain\n",
        "a. Number of letters\n",
        "b. Number of digits, and\n",
        "c. Number of other characters"
      ],
      "metadata": {
        "id": "sSQhBQYhqkot"
      }
    },
    {
      "cell_type": "code",
      "source": [
        "def analyze_and_write_file(input_filename, output_filename):\n",
        "    with open(input_filename, 'r') as file:\n",
        "        text = file.read()\n",
        "\n",
        "    num_letters = sum(1 for char in text if char.isalpha())\n",
        "    num_digits = sum(1 for char in text if char.isdigit())\n",
        "    num_other_chars = sum(1 for char in text if not char.isalnum() and not char.isspace())\n",
        "\n",
        "    with open(output_filename, 'w') as output_file:\n",
        "        output_file.write(f\"Number of letters: {num_letters}\\n\")\n",
        "        output_file.write(f\"Number of digits: {num_digits}\\n\")\n",
        "        output_file.write(f\"Number of other characters: {num_other_chars}\\n\")\n",
        "\n",
        "# Assuming 'sample.txt' is the input file and 'output.txt' is the output file\n",
        "input_filename = 'sample.txt'\n",
        "output_filename = 'output.txt'\n",
        "analyze_and_write_file(input_filename, output_filename)"
      ],
      "metadata": {
        "id": "wHZQ_mJFSoMI"
      },
      "execution_count": null,
      "outputs": []
    },
    {
      "cell_type": "markdown",
      "source": [
        "36. Write a program that reads the file containing texts and counts the number of whitespaces."
      ],
      "metadata": {
        "id": "uDz5yo20qpk1"
      }
    },
    {
      "cell_type": "code",
      "source": [
        "def count_whitespaces(filename):\n",
        "    with open(filename, 'r') as file:\n",
        "        text = file.read()\n",
        "\n",
        "    num_whitespaces = sum(1 for char in text if char.isspace())\n",
        "\n",
        "    print(\"Number of whitespaces:\", num_whitespaces)\n",
        "\n",
        "# Assuming 'sample.txt' is the name of the file to be analyzed\n",
        "filename = 'sample.txt'\n",
        "count_whitespaces(filename)"
      ],
      "metadata": {
        "id": "MefESIEqSqwh"
      },
      "execution_count": null,
      "outputs": []
    },
    {
      "cell_type": "markdown",
      "source": [
        "37. Write a program to find sum and average of numbers stored in a file. Create a separate file to\n",
        "write output."
      ],
      "metadata": {
        "id": "gultsNKTqsP-"
      }
    },
    {
      "cell_type": "code",
      "source": [
        "def sum_and_average_from_file(input_filename, output_filename):\n",
        "    with open(input_filename, 'r') as file:\n",
        "        numbers = [float(line.strip()) for line in file if line.strip().isdigit()]\n",
        "\n",
        "    total_sum = sum(numbers)\n",
        "    average = total_sum / len(numbers) if numbers else 0\n",
        "\n",
        "    with open(output_filename, 'w') as output_file:\n",
        "        output_file.write(f\"Sum: {total_sum}\\n\")\n",
        "        output_file.write(f\"Average: {average}\\n\")\n",
        "\n",
        "# Assuming 'numbers.txt' is the input file and 'result.txt' is the output file\n",
        "input_filename = 'numbers.txt'\n",
        "output_filename = 'result.txt'\n",
        "sum_and_average_from_file(input_filename, output_filename)"
      ],
      "metadata": {
        "id": "3MUCV9f4Ss8Q"
      },
      "execution_count": null,
      "outputs": []
    }
  ]
}